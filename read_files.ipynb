{
 "cells": [
  {
   "cell_type": "code",
   "execution_count": 10,
   "metadata": {},
   "outputs": [
    {
     "name": "stdout",
     "output_type": "stream",
     "text": [
      "['2004']\n"
     ]
    }
   ],
   "source": [
    "import os\n",
    "some  = []\n",
    "files = list(os.listdir())\n",
    "for i in files:\n",
    "    i = i.split('.')\n",
    "    i = i[0]\n",
    "    try:\n",
    "        i = i[-4] + i[-3] + i[-2] + i[-1]\n",
    "        if i == \"2004\":\n",
    "            some.append(i)\n",
    "    except:\n",
    "        continue\n",
    "print(some)"
   ]
  },
  {
   "cell_type": "code",
   "execution_count": null,
   "metadata": {},
   "outputs": [],
   "source": []
  }
 ],
 "metadata": {
  "kernelspec": {
   "display_name": "Python 3",
   "language": "python",
   "name": "python3"
  },
  "language_info": {
   "codemirror_mode": {
    "name": "ipython",
    "version": 3
   },
   "file_extension": ".py",
   "mimetype": "text/x-python",
   "name": "python",
   "nbconvert_exporter": "python",
   "pygments_lexer": "ipython3",
   "version": "3.7.3"
  }
 },
 "nbformat": 4,
 "nbformat_minor": 2
}
